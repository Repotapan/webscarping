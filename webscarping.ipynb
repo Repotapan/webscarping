{
 "cells": [
  {
   "cell_type": "code",
   "execution_count": 2,
   "id": "d9f950d8-3d17-4b64-94d3-e8851545ada7",
   "metadata": {},
   "outputs": [],
   "source": [
    "import requests\n",
    "from bs4 import BeautifulSoup as bs\n",
    "from urllib.request import urlopen as uReq\n",
    "import logging"
   ]
  },
  {
   "cell_type": "code",
   "execution_count": 19,
   "id": "1ee05f9a-0ca6-4e3c-aef4-a512ad7edca9",
   "metadata": {},
   "outputs": [],
   "source": [
    "flipkart_url= \"https://www.flipkart.com/search?q=\" + \"iphone12\""
   ]
  },
  {
   "cell_type": "code",
   "execution_count": 20,
   "id": "de1f8363-6f8f-49e2-a843-2d4aaf3f89d1",
   "metadata": {},
   "outputs": [
    {
     "data": {
      "text/plain": [
       "'https://www.flipkart.com/search?q=iphone12'"
      ]
     },
     "execution_count": 20,
     "metadata": {},
     "output_type": "execute_result"
    }
   ],
   "source": [
    "flipkart_url"
   ]
  },
  {
   "cell_type": "code",
   "execution_count": 21,
   "id": "44c08595-099d-4595-bbb5-639d857a77fe",
   "metadata": {},
   "outputs": [],
   "source": [
    "url_client=uReq(flipkart_url)"
   ]
  },
  {
   "cell_type": "code",
   "execution_count": 22,
   "id": "5f03be64-ce2c-495e-be35-a3419a28851e",
   "metadata": {},
   "outputs": [
    {
     "data": {
      "text/plain": [
       "<http.client.HTTPResponse at 0x7f775713e3b0>"
      ]
     },
     "execution_count": 22,
     "metadata": {},
     "output_type": "execute_result"
    }
   ],
   "source": [
    "url_client"
   ]
  },
  {
   "cell_type": "code",
   "execution_count": 23,
   "id": "993fd06e-2754-4193-8723-a0026a82134c",
   "metadata": {},
   "outputs": [],
   "source": [
    "flipkart_page=url_client.read()"
   ]
  },
  {
   "cell_type": "code",
   "execution_count": 24,
   "id": "af294bfe-121f-4a5b-862c-c01c88e460ea",
   "metadata": {},
   "outputs": [],
   "source": [
    "flipkart_html=bs(flipkart_page,'html.parser')"
   ]
  },
  {
   "cell_type": "code",
   "execution_count": 25,
   "id": "a2618532-03ba-4d1a-accc-94e9cf0b00a4",
   "metadata": {},
   "outputs": [
    {
     "data": {
      "text/plain": [
       "'https://www.flipkart.com/apple-iphone-12-red-64-gb/p/itm3481e4053d500?pid=MOBFWBYZDP6QCQ8F&lid=LSTMOBFWBYZDP6QCQ8FPGCIEN&marketplace=FLIPKART&q=iphone12&store=tyy%2F4io&srno=s_1_8&otracker=search&iid=b82e527f-b608-4bd3-812e-039de8f20d5f.MOBFWBYZDP6QCQ8F.SEARCH&ssid=6a751tvbj40000001677160626245&qH=ad588135f239b88b'"
      ]
     },
     "execution_count": 25,
     "metadata": {},
     "output_type": "execute_result"
    }
   ],
   "source": [
    "\"https://www.flipkart.com/\"+\"apple-iphone-12-red-64-gb/p/itm3481e4053d500?pid=MOBFWBYZDP6QCQ8F&lid=LSTMOBFWBYZDP6QCQ8FPGCIEN&marketplace=FLIPKART&q=iphone12&store=tyy%2F4io&srno=s_1_8&otracker=search&iid=b82e527f-b608-4bd3-812e-039de8f20d5f.MOBFWBYZDP6QCQ8F.SEARCH&ssid=6a751tvbj40000001677160626245&qH=ad588135f239b88b\""
   ]
  },
  {
   "cell_type": "code",
   "execution_count": 26,
   "id": "f0cac57a-9f90-4bdc-bf07-7c97bad8f46b",
   "metadata": {},
   "outputs": [],
   "source": [
    "bigbox=flipkart_html.findAll(\"div\",{\"class\":\"_1AtVbE col-12-12\"})"
   ]
  },
  {
   "cell_type": "code",
   "execution_count": 27,
   "id": "82acad0b-9059-4c49-a185-f30cbe2b424a",
   "metadata": {},
   "outputs": [
    {
     "data": {
      "text/plain": [
       "30"
      ]
     },
     "execution_count": 27,
     "metadata": {},
     "output_type": "execute_result"
    }
   ],
   "source": [
    "len(bigbox)"
   ]
  },
  {
   "cell_type": "code",
   "execution_count": 28,
   "id": "910e9015-21ea-4d73-a2f4-32bc0a2347be",
   "metadata": {},
   "outputs": [],
   "source": [
    "del bigbox[0:3]"
   ]
  },
  {
   "cell_type": "code",
   "execution_count": 29,
   "id": "3956adad-6bbf-4f5c-8972-b38cc8c2c5b5",
   "metadata": {},
   "outputs": [],
   "source": [
    "product_link=\"https://www.flipkart.com\" + bigbox[3].div.div.div.a[\"href\"]"
   ]
  },
  {
   "cell_type": "code",
   "execution_count": 30,
   "id": "b5c42b60-d024-4be3-927b-bd3e4252c9cd",
   "metadata": {},
   "outputs": [
    {
     "name": "stdout",
     "output_type": "stream",
     "text": [
      "https://www.flipkart.com/apple-iphone-12-purple-64-gb/p/itmfca1e77621c65?pid=MOBG2EPZJUZEYZGK&lid=LSTMOBG2EPZJUZEYZGK3JC9XU&marketplace=FLIPKART&q=iphone12&store=tyy%2F4io&srno=s_1_5&otracker=search&fm=organic&iid=f81f2201-0ba2-48f7-b9c0-d7f6ae95995d.MOBG2EPZJUZEYZGK.SEARCH&ppt=None&ppn=None&ssid=fs8cne4m7k0000001677215368115&qH=ad588135f239b88b\n",
      "https://www.flipkart.com/apple-iphone-12-purple-64-gb/p/itmfca1e77621c65?pid=MOBG2EPZJUZEYZGK&lid=LSTMOBG2EPZJUZEYZGK3JC9XU&marketplace=FLIPKART&q=iphone12&store=tyy%2F4io&srno=s_1_5&otracker=search&fm=organic&iid=f81f2201-0ba2-48f7-b9c0-d7f6ae95995d.MOBG2EPZJUZEYZGK.SEARCH&ppt=None&ppn=None&ssid=fs8cne4m7k0000001677215368115&qH=ad588135f239b88b\n",
      "https://www.flipkart.com/apple-iphone-12-purple-64-gb/p/itmfca1e77621c65?pid=MOBG2EPZJUZEYZGK&lid=LSTMOBG2EPZJUZEYZGK3JC9XU&marketplace=FLIPKART&q=iphone12&store=tyy%2F4io&srno=s_1_5&otracker=search&fm=organic&iid=f81f2201-0ba2-48f7-b9c0-d7f6ae95995d.MOBG2EPZJUZEYZGK.SEARCH&ppt=None&ppn=None&ssid=fs8cne4m7k0000001677215368115&qH=ad588135f239b88b\n",
      "https://www.flipkart.com/apple-iphone-12-purple-64-gb/p/itmfca1e77621c65?pid=MOBG2EPZJUZEYZGK&lid=LSTMOBG2EPZJUZEYZGK3JC9XU&marketplace=FLIPKART&q=iphone12&store=tyy%2F4io&srno=s_1_5&otracker=search&fm=organic&iid=f81f2201-0ba2-48f7-b9c0-d7f6ae95995d.MOBG2EPZJUZEYZGK.SEARCH&ppt=None&ppn=None&ssid=fs8cne4m7k0000001677215368115&qH=ad588135f239b88b\n",
      "https://www.flipkart.com/apple-iphone-12-purple-64-gb/p/itmfca1e77621c65?pid=MOBG2EPZJUZEYZGK&lid=LSTMOBG2EPZJUZEYZGK3JC9XU&marketplace=FLIPKART&q=iphone12&store=tyy%2F4io&srno=s_1_5&otracker=search&fm=organic&iid=f81f2201-0ba2-48f7-b9c0-d7f6ae95995d.MOBG2EPZJUZEYZGK.SEARCH&ppt=None&ppn=None&ssid=fs8cne4m7k0000001677215368115&qH=ad588135f239b88b\n",
      "https://www.flipkart.com/apple-iphone-12-purple-64-gb/p/itmfca1e77621c65?pid=MOBG2EPZJUZEYZGK&lid=LSTMOBG2EPZJUZEYZGK3JC9XU&marketplace=FLIPKART&q=iphone12&store=tyy%2F4io&srno=s_1_5&otracker=search&fm=organic&iid=f81f2201-0ba2-48f7-b9c0-d7f6ae95995d.MOBG2EPZJUZEYZGK.SEARCH&ppt=None&ppn=None&ssid=fs8cne4m7k0000001677215368115&qH=ad588135f239b88b\n",
      "https://www.flipkart.com/apple-iphone-12-purple-64-gb/p/itmfca1e77621c65?pid=MOBG2EPZJUZEYZGK&lid=LSTMOBG2EPZJUZEYZGK3JC9XU&marketplace=FLIPKART&q=iphone12&store=tyy%2F4io&srno=s_1_5&otracker=search&fm=organic&iid=f81f2201-0ba2-48f7-b9c0-d7f6ae95995d.MOBG2EPZJUZEYZGK.SEARCH&ppt=None&ppn=None&ssid=fs8cne4m7k0000001677215368115&qH=ad588135f239b88b\n",
      "https://www.flipkart.com/apple-iphone-12-purple-64-gb/p/itmfca1e77621c65?pid=MOBG2EPZJUZEYZGK&lid=LSTMOBG2EPZJUZEYZGK3JC9XU&marketplace=FLIPKART&q=iphone12&store=tyy%2F4io&srno=s_1_5&otracker=search&fm=organic&iid=f81f2201-0ba2-48f7-b9c0-d7f6ae95995d.MOBG2EPZJUZEYZGK.SEARCH&ppt=None&ppn=None&ssid=fs8cne4m7k0000001677215368115&qH=ad588135f239b88b\n",
      "https://www.flipkart.com/apple-iphone-12-purple-64-gb/p/itmfca1e77621c65?pid=MOBG2EPZJUZEYZGK&lid=LSTMOBG2EPZJUZEYZGK3JC9XU&marketplace=FLIPKART&q=iphone12&store=tyy%2F4io&srno=s_1_5&otracker=search&fm=organic&iid=f81f2201-0ba2-48f7-b9c0-d7f6ae95995d.MOBG2EPZJUZEYZGK.SEARCH&ppt=None&ppn=None&ssid=fs8cne4m7k0000001677215368115&qH=ad588135f239b88b\n",
      "https://www.flipkart.com/apple-iphone-12-purple-64-gb/p/itmfca1e77621c65?pid=MOBG2EPZJUZEYZGK&lid=LSTMOBG2EPZJUZEYZGK3JC9XU&marketplace=FLIPKART&q=iphone12&store=tyy%2F4io&srno=s_1_5&otracker=search&fm=organic&iid=f81f2201-0ba2-48f7-b9c0-d7f6ae95995d.MOBG2EPZJUZEYZGK.SEARCH&ppt=None&ppn=None&ssid=fs8cne4m7k0000001677215368115&qH=ad588135f239b88b\n",
      "https://www.flipkart.com/apple-iphone-12-purple-64-gb/p/itmfca1e77621c65?pid=MOBG2EPZJUZEYZGK&lid=LSTMOBG2EPZJUZEYZGK3JC9XU&marketplace=FLIPKART&q=iphone12&store=tyy%2F4io&srno=s_1_5&otracker=search&fm=organic&iid=f81f2201-0ba2-48f7-b9c0-d7f6ae95995d.MOBG2EPZJUZEYZGK.SEARCH&ppt=None&ppn=None&ssid=fs8cne4m7k0000001677215368115&qH=ad588135f239b88b\n",
      "https://www.flipkart.com/apple-iphone-12-purple-64-gb/p/itmfca1e77621c65?pid=MOBG2EPZJUZEYZGK&lid=LSTMOBG2EPZJUZEYZGK3JC9XU&marketplace=FLIPKART&q=iphone12&store=tyy%2F4io&srno=s_1_5&otracker=search&fm=organic&iid=f81f2201-0ba2-48f7-b9c0-d7f6ae95995d.MOBG2EPZJUZEYZGK.SEARCH&ppt=None&ppn=None&ssid=fs8cne4m7k0000001677215368115&qH=ad588135f239b88b\n",
      "https://www.flipkart.com/apple-iphone-12-purple-64-gb/p/itmfca1e77621c65?pid=MOBG2EPZJUZEYZGK&lid=LSTMOBG2EPZJUZEYZGK3JC9XU&marketplace=FLIPKART&q=iphone12&store=tyy%2F4io&srno=s_1_5&otracker=search&fm=organic&iid=f81f2201-0ba2-48f7-b9c0-d7f6ae95995d.MOBG2EPZJUZEYZGK.SEARCH&ppt=None&ppn=None&ssid=fs8cne4m7k0000001677215368115&qH=ad588135f239b88b\n",
      "https://www.flipkart.com/apple-iphone-12-purple-64-gb/p/itmfca1e77621c65?pid=MOBG2EPZJUZEYZGK&lid=LSTMOBG2EPZJUZEYZGK3JC9XU&marketplace=FLIPKART&q=iphone12&store=tyy%2F4io&srno=s_1_5&otracker=search&fm=organic&iid=f81f2201-0ba2-48f7-b9c0-d7f6ae95995d.MOBG2EPZJUZEYZGK.SEARCH&ppt=None&ppn=None&ssid=fs8cne4m7k0000001677215368115&qH=ad588135f239b88b\n",
      "https://www.flipkart.com/apple-iphone-12-purple-64-gb/p/itmfca1e77621c65?pid=MOBG2EPZJUZEYZGK&lid=LSTMOBG2EPZJUZEYZGK3JC9XU&marketplace=FLIPKART&q=iphone12&store=tyy%2F4io&srno=s_1_5&otracker=search&fm=organic&iid=f81f2201-0ba2-48f7-b9c0-d7f6ae95995d.MOBG2EPZJUZEYZGK.SEARCH&ppt=None&ppn=None&ssid=fs8cne4m7k0000001677215368115&qH=ad588135f239b88b\n",
      "https://www.flipkart.com/apple-iphone-12-purple-64-gb/p/itmfca1e77621c65?pid=MOBG2EPZJUZEYZGK&lid=LSTMOBG2EPZJUZEYZGK3JC9XU&marketplace=FLIPKART&q=iphone12&store=tyy%2F4io&srno=s_1_5&otracker=search&fm=organic&iid=f81f2201-0ba2-48f7-b9c0-d7f6ae95995d.MOBG2EPZJUZEYZGK.SEARCH&ppt=None&ppn=None&ssid=fs8cne4m7k0000001677215368115&qH=ad588135f239b88b\n",
      "https://www.flipkart.com/apple-iphone-12-purple-64-gb/p/itmfca1e77621c65?pid=MOBG2EPZJUZEYZGK&lid=LSTMOBG2EPZJUZEYZGK3JC9XU&marketplace=FLIPKART&q=iphone12&store=tyy%2F4io&srno=s_1_5&otracker=search&fm=organic&iid=f81f2201-0ba2-48f7-b9c0-d7f6ae95995d.MOBG2EPZJUZEYZGK.SEARCH&ppt=None&ppn=None&ssid=fs8cne4m7k0000001677215368115&qH=ad588135f239b88b\n",
      "https://www.flipkart.com/apple-iphone-12-purple-64-gb/p/itmfca1e77621c65?pid=MOBG2EPZJUZEYZGK&lid=LSTMOBG2EPZJUZEYZGK3JC9XU&marketplace=FLIPKART&q=iphone12&store=tyy%2F4io&srno=s_1_5&otracker=search&fm=organic&iid=f81f2201-0ba2-48f7-b9c0-d7f6ae95995d.MOBG2EPZJUZEYZGK.SEARCH&ppt=None&ppn=None&ssid=fs8cne4m7k0000001677215368115&qH=ad588135f239b88b\n",
      "https://www.flipkart.com/apple-iphone-12-purple-64-gb/p/itmfca1e77621c65?pid=MOBG2EPZJUZEYZGK&lid=LSTMOBG2EPZJUZEYZGK3JC9XU&marketplace=FLIPKART&q=iphone12&store=tyy%2F4io&srno=s_1_5&otracker=search&fm=organic&iid=f81f2201-0ba2-48f7-b9c0-d7f6ae95995d.MOBG2EPZJUZEYZGK.SEARCH&ppt=None&ppn=None&ssid=fs8cne4m7k0000001677215368115&qH=ad588135f239b88b\n",
      "https://www.flipkart.com/apple-iphone-12-purple-64-gb/p/itmfca1e77621c65?pid=MOBG2EPZJUZEYZGK&lid=LSTMOBG2EPZJUZEYZGK3JC9XU&marketplace=FLIPKART&q=iphone12&store=tyy%2F4io&srno=s_1_5&otracker=search&fm=organic&iid=f81f2201-0ba2-48f7-b9c0-d7f6ae95995d.MOBG2EPZJUZEYZGK.SEARCH&ppt=None&ppn=None&ssid=fs8cne4m7k0000001677215368115&qH=ad588135f239b88b\n",
      "https://www.flipkart.com/apple-iphone-12-purple-64-gb/p/itmfca1e77621c65?pid=MOBG2EPZJUZEYZGK&lid=LSTMOBG2EPZJUZEYZGK3JC9XU&marketplace=FLIPKART&q=iphone12&store=tyy%2F4io&srno=s_1_5&otracker=search&fm=organic&iid=f81f2201-0ba2-48f7-b9c0-d7f6ae95995d.MOBG2EPZJUZEYZGK.SEARCH&ppt=None&ppn=None&ssid=fs8cne4m7k0000001677215368115&qH=ad588135f239b88b\n",
      "https://www.flipkart.com/apple-iphone-12-purple-64-gb/p/itmfca1e77621c65?pid=MOBG2EPZJUZEYZGK&lid=LSTMOBG2EPZJUZEYZGK3JC9XU&marketplace=FLIPKART&q=iphone12&store=tyy%2F4io&srno=s_1_5&otracker=search&fm=organic&iid=f81f2201-0ba2-48f7-b9c0-d7f6ae95995d.MOBG2EPZJUZEYZGK.SEARCH&ppt=None&ppn=None&ssid=fs8cne4m7k0000001677215368115&qH=ad588135f239b88b\n",
      "https://www.flipkart.com/apple-iphone-12-purple-64-gb/p/itmfca1e77621c65?pid=MOBG2EPZJUZEYZGK&lid=LSTMOBG2EPZJUZEYZGK3JC9XU&marketplace=FLIPKART&q=iphone12&store=tyy%2F4io&srno=s_1_5&otracker=search&fm=organic&iid=f81f2201-0ba2-48f7-b9c0-d7f6ae95995d.MOBG2EPZJUZEYZGK.SEARCH&ppt=None&ppn=None&ssid=fs8cne4m7k0000001677215368115&qH=ad588135f239b88b\n",
      "https://www.flipkart.com/apple-iphone-12-purple-64-gb/p/itmfca1e77621c65?pid=MOBG2EPZJUZEYZGK&lid=LSTMOBG2EPZJUZEYZGK3JC9XU&marketplace=FLIPKART&q=iphone12&store=tyy%2F4io&srno=s_1_5&otracker=search&fm=organic&iid=f81f2201-0ba2-48f7-b9c0-d7f6ae95995d.MOBG2EPZJUZEYZGK.SEARCH&ppt=None&ppn=None&ssid=fs8cne4m7k0000001677215368115&qH=ad588135f239b88b\n",
      "https://www.flipkart.com/apple-iphone-12-purple-64-gb/p/itmfca1e77621c65?pid=MOBG2EPZJUZEYZGK&lid=LSTMOBG2EPZJUZEYZGK3JC9XU&marketplace=FLIPKART&q=iphone12&store=tyy%2F4io&srno=s_1_5&otracker=search&fm=organic&iid=f81f2201-0ba2-48f7-b9c0-d7f6ae95995d.MOBG2EPZJUZEYZGK.SEARCH&ppt=None&ppn=None&ssid=fs8cne4m7k0000001677215368115&qH=ad588135f239b88b\n",
      "https://www.flipkart.com/apple-iphone-12-purple-64-gb/p/itmfca1e77621c65?pid=MOBG2EPZJUZEYZGK&lid=LSTMOBG2EPZJUZEYZGK3JC9XU&marketplace=FLIPKART&q=iphone12&store=tyy%2F4io&srno=s_1_5&otracker=search&fm=organic&iid=f81f2201-0ba2-48f7-b9c0-d7f6ae95995d.MOBG2EPZJUZEYZGK.SEARCH&ppt=None&ppn=None&ssid=fs8cne4m7k0000001677215368115&qH=ad588135f239b88b\n",
      "https://www.flipkart.com/apple-iphone-12-purple-64-gb/p/itmfca1e77621c65?pid=MOBG2EPZJUZEYZGK&lid=LSTMOBG2EPZJUZEYZGK3JC9XU&marketplace=FLIPKART&q=iphone12&store=tyy%2F4io&srno=s_1_5&otracker=search&fm=organic&iid=f81f2201-0ba2-48f7-b9c0-d7f6ae95995d.MOBG2EPZJUZEYZGK.SEARCH&ppt=None&ppn=None&ssid=fs8cne4m7k0000001677215368115&qH=ad588135f239b88b\n"
     ]
    }
   ],
   "source": [
    "for i in bigbox:\n",
    "    print(\"https://www.flipkart.com\" + bigbox[3].div.div.div.a[\"href\"])"
   ]
  },
  {
   "cell_type": "code",
   "execution_count": 31,
   "id": "a066032b-9243-4d41-9971-f7c189eaf9a5",
   "metadata": {},
   "outputs": [],
   "source": [
    "product_req = requests.get(product_link)"
   ]
  },
  {
   "cell_type": "code",
   "execution_count": 32,
   "id": "b57474a4-a874-4ce5-acb9-23496e01df1b",
   "metadata": {},
   "outputs": [
    {
     "data": {
      "text/plain": [
       "'https://www.flipkart.com/apple-iphone-12-purple-64-gb/p/itmfca1e77621c65?pid=MOBG2EPZJUZEYZGK&lid=LSTMOBG2EPZJUZEYZGK3JC9XU&marketplace=FLIPKART&q=iphone12&store=tyy%2F4io&srno=s_1_5&otracker=search&fm=organic&iid=f81f2201-0ba2-48f7-b9c0-d7f6ae95995d.MOBG2EPZJUZEYZGK.SEARCH&ppt=None&ppn=None&ssid=fs8cne4m7k0000001677215368115&qH=ad588135f239b88b'"
      ]
     },
     "execution_count": 32,
     "metadata": {},
     "output_type": "execute_result"
    }
   ],
   "source": [
    "product_link"
   ]
  },
  {
   "cell_type": "code",
   "execution_count": 33,
   "id": "faf75251-e816-46a9-96ab-2a3f91560b3f",
   "metadata": {},
   "outputs": [],
   "source": [
    "product_html=bs(product_req.text,\"html.parser\")"
   ]
  },
  {
   "cell_type": "code",
   "execution_count": 34,
   "id": "440d619b-3882-4c3d-a4fa-48abbf66adae",
   "metadata": {},
   "outputs": [],
   "source": [
    "comment_box=product_html.findAll(\"div\",{\"class\":\"_16PBlm\"})"
   ]
  },
  {
   "cell_type": "code",
   "execution_count": 35,
   "id": "228f0864-e703-4baa-a681-bcdcbdb53069",
   "metadata": {},
   "outputs": [
    {
     "data": {
      "text/plain": [
       "11"
      ]
     },
     "execution_count": 35,
     "metadata": {},
     "output_type": "execute_result"
    }
   ],
   "source": [
    "len(comment_box)"
   ]
  },
  {
   "cell_type": "code",
   "execution_count": 36,
   "id": "984e8569-8491-474b-be70-a775316e6e02",
   "metadata": {},
   "outputs": [
    {
     "name": "stdout",
     "output_type": "stream",
     "text": [
      "Flipkart Customer\n",
      "Anurag Lad\n",
      "Vishal Gandhi\n",
      "Athul Shabu\n",
      "Flipkart Customer\n",
      "Ishu Kumar\n",
      "Ayaz Ahmad\n",
      "Vijaya Kurkute\n",
      "Suddha Ram boro\n",
      "Indradav Sharma \n"
     ]
    },
    {
     "ename": "AttributeError",
     "evalue": "'NoneType' object has no attribute 'div'",
     "output_type": "error",
     "traceback": [
      "\u001b[0;31m---------------------------------------------------------------------------\u001b[0m",
      "\u001b[0;31mAttributeError\u001b[0m                            Traceback (most recent call last)",
      "Cell \u001b[0;32mIn[36], line 2\u001b[0m\n\u001b[1;32m      1\u001b[0m \u001b[38;5;28;01mfor\u001b[39;00m i \u001b[38;5;129;01min\u001b[39;00m comment_box:\n\u001b[0;32m----> 2\u001b[0m     \u001b[38;5;28mprint\u001b[39m(\u001b[43mi\u001b[49m\u001b[38;5;241;43m.\u001b[39;49m\u001b[43mdiv\u001b[49m\u001b[38;5;241;43m.\u001b[39;49m\u001b[43mdiv\u001b[49m\u001b[38;5;241m.\u001b[39mfind_all(\u001b[38;5;124m\"\u001b[39m\u001b[38;5;124mp\u001b[39m\u001b[38;5;124m\"\u001b[39m,{\u001b[38;5;124m\"\u001b[39m\u001b[38;5;124mclass\u001b[39m\u001b[38;5;124m\"\u001b[39m:\u001b[38;5;124m\"\u001b[39m\u001b[38;5;124m_2sc7ZR _2V5EHH\u001b[39m\u001b[38;5;124m\"\u001b[39m})[\u001b[38;5;241m0\u001b[39m]\u001b[38;5;241m.\u001b[39mtext)\n",
      "\u001b[0;31mAttributeError\u001b[0m: 'NoneType' object has no attribute 'div'"
     ]
    }
   ],
   "source": [
    "for i in comment_box:\n",
    "    print(i.div.div.find_all(\"p\",{\"class\":\"_2sc7ZR _2V5EHH\"})[0].text)"
   ]
  },
  {
   "cell_type": "code",
   "execution_count": null,
   "id": "e46e7fb4-7323-4b52-9cbc-af4b0d51d0b0",
   "metadata": {},
   "outputs": [],
   "source": []
  },
  {
   "cell_type": "code",
   "execution_count": null,
   "id": "0abb6d8e-0a54-4571-bfe3-a17d1942ba5d",
   "metadata": {},
   "outputs": [],
   "source": []
  },
  {
   "cell_type": "code",
   "execution_count": null,
   "id": "e543b123-b4a6-4de2-8d4d-f5e1c090609c",
   "metadata": {},
   "outputs": [],
   "source": []
  },
  {
   "cell_type": "code",
   "execution_count": null,
   "id": "648700c1-4ac3-4271-8dd0-0cc98d4bcd68",
   "metadata": {},
   "outputs": [],
   "source": []
  },
  {
   "cell_type": "code",
   "execution_count": null,
   "id": "da5f92f4-a7a5-4026-9f87-8e84f755da77",
   "metadata": {},
   "outputs": [],
   "source": []
  },
  {
   "cell_type": "code",
   "execution_count": null,
   "id": "1f96972e-6333-4179-8e8c-6245d6232421",
   "metadata": {},
   "outputs": [],
   "source": []
  },
  {
   "cell_type": "code",
   "execution_count": 37,
   "id": "75aeb9c1-4007-48ce-85fc-659e5c278002",
   "metadata": {},
   "outputs": [
    {
     "name": "stdout",
     "output_type": "stream",
     "text": [
      "https://www.flipkart.com/apple-iphone-12-white-128-gb/p/itm95393f4c6cc59?pid=MOBFWBYZBTZFGJF9&lid=LSTMOBFWBYZBTZFGJF9RAHZAK&marketplace=FLIPKART&q=iphone12&store=tyy%2F4io&srno=s_1_2&otracker=search&fm=organic&iid=f81f2201-0ba2-48f7-b9c0-d7f6ae95995d.MOBFWBYZBTZFGJF9.SEARCH&ppt=None&ppn=None&ssid=fs8cne4m7k0000001677215368115&qH=ad588135f239b88b\n",
      "https://www.flipkart.com/apple-iphone-12-red-128-gb/p/itma7bd86885ed98?pid=MOBFWBYZUHPFWQRD&lid=LSTMOBFWBYZUHPFWQRD6PEPH0&marketplace=FLIPKART&q=iphone12&store=tyy%2F4io&spotlightTagId=TrendingId_tyy%2F4io&srno=s_1_3&otracker=search&fm=organic&iid=f81f2201-0ba2-48f7-b9c0-d7f6ae95995d.MOBFWBYZUHPFWQRD.SEARCH&ppt=None&ppn=None&ssid=fs8cne4m7k0000001677215368115&qH=ad588135f239b88b\n",
      "https://www.flipkart.com/apple-iphone-12-black-64-gb/p/itma2559422bf7c7?pid=MOBFWBYZU5FWK2VP&lid=LSTMOBFWBYZU5FWK2VPFMEI56&marketplace=FLIPKART&q=iphone12&store=tyy%2F4io&srno=s_1_4&otracker=search&fm=organic&iid=f81f2201-0ba2-48f7-b9c0-d7f6ae95995d.MOBFWBYZU5FWK2VP.SEARCH&ppt=None&ppn=None&ssid=fs8cne4m7k0000001677215368115&qH=ad588135f239b88b\n",
      "https://www.flipkart.com/apple-iphone-12-purple-64-gb/p/itmfca1e77621c65?pid=MOBG2EPZJUZEYZGK&lid=LSTMOBG2EPZJUZEYZGK3JC9XU&marketplace=FLIPKART&q=iphone12&store=tyy%2F4io&srno=s_1_5&otracker=search&fm=organic&iid=f81f2201-0ba2-48f7-b9c0-d7f6ae95995d.MOBG2EPZJUZEYZGK.SEARCH&ppt=None&ppn=None&ssid=fs8cne4m7k0000001677215368115&qH=ad588135f239b88b\n",
      "https://www.flipkart.com/apple-iphone-12-blue-128-gb/p/itm02853ae92e90a?pid=MOBFWBYZKPTZF9VG&lid=LSTMOBFWBYZKPTZF9VGJD5AMO&marketplace=FLIPKART&q=iphone12&store=tyy%2F4io&srno=s_1_6&otracker=search&fm=organic&iid=f81f2201-0ba2-48f7-b9c0-d7f6ae95995d.MOBFWBYZKPTZF9VG.SEARCH&ppt=None&ppn=None&ssid=fs8cne4m7k0000001677215368115&qH=ad588135f239b88b\n",
      "https://www.flipkart.com/apple-iphone-12-blue-64-gb/p/itm5778ad0d0d255?pid=MOBFWBYZ8DNJNY7N&lid=LSTMOBFWBYZ8DNJNY7NK9PX3E&marketplace=FLIPKART&q=iphone12&store=tyy%2F4io&srno=s_1_7&otracker=search&fm=organic&iid=f81f2201-0ba2-48f7-b9c0-d7f6ae95995d.MOBFWBYZ8DNJNY7N.SEARCH&ppt=None&ppn=None&ssid=fs8cne4m7k0000001677215368115&qH=ad588135f239b88b\n",
      "https://www.flipkart.com/apple-iphone-12-green-64-gb/p/itmc8a19a9686173?pid=MOBFWBYZKK3EJPFW&lid=LSTMOBFWBYZKK3EJPFWVBZVKG&marketplace=FLIPKART&q=iphone12&store=tyy%2F4io&srno=s_1_8&otracker=search&fm=organic&iid=f81f2201-0ba2-48f7-b9c0-d7f6ae95995d.MOBFWBYZKK3EJPFW.SEARCH&ppt=None&ppn=None&ssid=fs8cne4m7k0000001677215368115&qH=ad588135f239b88b\n",
      "https://www.flipkart.com/apple-iphone-12-white-64-gb/p/itm8b88bdc03cd79?pid=MOBFWBYZTK33MBG9&lid=LSTMOBFWBYZTK33MBG9ZFJ0HL&marketplace=FLIPKART&q=iphone12&store=tyy%2F4io&srno=s_1_9&otracker=search&fm=organic&iid=f81f2201-0ba2-48f7-b9c0-d7f6ae95995d.MOBFWBYZTK33MBG9.SEARCH&ppt=None&ppn=None&ssid=fs8cne4m7k0000001677215368115&qH=ad588135f239b88b\n",
      "https://www.flipkart.com/apple-iphone-12-blue-256-gb/p/itm3be487cd1dea5?pid=MOBFWBYZKYYZUANT&lid=LSTMOBFWBYZKYYZUANT0DVCKS&marketplace=FLIPKART&q=iphone12&store=tyy%2F4io&srno=s_1_10&otracker=search&fm=organic&iid=f81f2201-0ba2-48f7-b9c0-d7f6ae95995d.MOBFWBYZKYYZUANT.SEARCH&ppt=None&ppn=None&ssid=fs8cne4m7k0000001677215368115&qH=ad588135f239b88b\n",
      "https://www.flipkart.com/apple-iphone-12-green-256-gb/p/itm6d126e7980774?pid=MOBFWBYZZPFJYYEY&lid=LSTMOBFWBYZZPFJYYEYEJFIAS&marketplace=FLIPKART&q=iphone12&store=tyy%2F4io&srno=s_1_11&otracker=search&fm=organic&iid=f81f2201-0ba2-48f7-b9c0-d7f6ae95995d.MOBFWBYZZPFJYYEY.SEARCH&ppt=None&ppn=None&ssid=fs8cne4m7k0000001677215368115&qH=ad588135f239b88b\n",
      "https://www.flipkart.com/apple-iphone-12-black-256-gb/p/itm68421fa1c1121?pid=MOBFWBYZ7CR9FRHZ&lid=LSTMOBFWBYZ7CR9FRHZIALAIL&marketplace=FLIPKART&q=iphone12&store=tyy%2F4io&srno=s_1_12&otracker=search&fm=organic&iid=f81f2201-0ba2-48f7-b9c0-d7f6ae95995d.MOBFWBYZ7CR9FRHZ.SEARCH&ppt=None&ppn=None&ssid=fs8cne4m7k0000001677215368115&qH=ad588135f239b88b\n",
      "https://www.flipkart.com/apple-iphone-12-red-256-gb/p/itm16f42310fe29a?pid=MOBFWBYZEBH6SAFP&lid=LSTMOBFWBYZEBH6SAFPS1GZIY&marketplace=FLIPKART&q=iphone12&store=tyy%2F4io&srno=s_1_13&otracker=search&fm=organic&iid=f81f2201-0ba2-48f7-b9c0-d7f6ae95995d.MOBFWBYZEBH6SAFP.SEARCH&ppt=None&ppn=None&ssid=fs8cne4m7k0000001677215368115&qH=ad588135f239b88b\n",
      "https://www.flipkart.com/apple-iphone-12-red-64-gb/p/itm3481e4053d500?pid=MOBFWBYZDP6QCQ8F&lid=LSTMOBFWBYZDP6QCQ8FPGCIEN&marketplace=FLIPKART&q=iphone12&store=tyy%2F4io&srno=s_1_14&otracker=search&fm=organic&iid=f81f2201-0ba2-48f7-b9c0-d7f6ae95995d.MOBFWBYZDP6QCQ8F.SEARCH&ppt=None&ppn=None&ssid=fs8cne4m7k0000001677215368115&qH=ad588135f239b88b\n",
      "https://www.flipkart.com/apple-iphone-12-white-256-gb/p/itmcfbcb621e6326?pid=MOBFWBYZMNGZVMJE&lid=LSTMOBFWBYZMNGZVMJEAEBPN8&marketplace=FLIPKART&q=iphone12&store=tyy%2F4io&srno=s_1_15&otracker=search&fm=organic&iid=f81f2201-0ba2-48f7-b9c0-d7f6ae95995d.MOBFWBYZMNGZVMJE.SEARCH&ppt=None&ppn=None&ssid=fs8cne4m7k0000001677215368115&qH=ad588135f239b88b\n",
      "https://www.flipkart.com/apple-iphone-12-mini-white-64-gb/p/itmf3b16d1640898?pid=MOBFWBYZBH4CEC4C&lid=LSTMOBFWBYZBH4CEC4C560H6J&marketplace=FLIPKART&q=iphone12&store=tyy%2F4io&srno=s_1_16&otracker=search&fm=organic&iid=f81f2201-0ba2-48f7-b9c0-d7f6ae95995d.MOBFWBYZBH4CEC4C.SEARCH&ppt=None&ppn=None&ssid=fs8cne4m7k0000001677215368115&qH=ad588135f239b88b\n",
      "https://www.flipkart.com/apple-iphone-12-mini-black-64-gb/p/itm38b727191eb08?pid=MOBFWBYZXSEGBS6F&lid=LSTMOBFWBYZXSEGBS6FTONJ6W&marketplace=FLIPKART&q=iphone12&store=tyy%2F4io&srno=s_1_17&otracker=search&fm=organic&iid=f81f2201-0ba2-48f7-b9c0-d7f6ae95995d.MOBFWBYZXSEGBS6F.SEARCH&ppt=None&ppn=None&ssid=fs8cne4m7k0000001677215368115&qH=ad588135f239b88b\n",
      "https://www.flipkart.com/apple-iphone-12-mini-black-128-gb/p/itm0eb512c195bdf?pid=MOBFWBYZH2AMPNPD&lid=LSTMOBFWBYZH2AMPNPDMB1TEO&marketplace=FLIPKART&q=iphone12&store=tyy%2F4io&srno=s_1_18&otracker=search&fm=organic&iid=f81f2201-0ba2-48f7-b9c0-d7f6ae95995d.MOBFWBYZH2AMPNPD.SEARCH&ppt=None&ppn=None&ssid=fs8cne4m7k0000001677215368115&qH=ad588135f239b88b\n",
      "https://www.flipkart.com/apple-iphone-12-mini-red-256-gb/p/itm1c7414c410905?pid=MOBFWBYZZQFU4C6H&lid=LSTMOBFWBYZZQFU4C6HF4BTVN&marketplace=FLIPKART&q=iphone12&store=tyy%2F4io&srno=s_1_19&otracker=search&fm=organic&iid=f81f2201-0ba2-48f7-b9c0-d7f6ae95995d.MOBFWBYZZQFU4C6H.SEARCH&ppt=None&ppn=None&ssid=fs8cne4m7k0000001677215368115&qH=ad588135f239b88b\n",
      "https://www.flipkart.com/apple-iphone-12-mini-black-256-gb/p/itmdd8bad2be7933?pid=MOBFWBYZXYYGEUXK&lid=LSTMOBFWBYZXYYGEUXKJLLNWR&marketplace=FLIPKART&q=iphone12&store=tyy%2F4io&srno=s_1_20&otracker=search&fm=organic&iid=f81f2201-0ba2-48f7-b9c0-d7f6ae95995d.MOBFWBYZXYYGEUXK.SEARCH&ppt=None&ppn=None&ssid=fs8cne4m7k0000001677215368115&qH=ad588135f239b88b\n",
      "https://www.flipkart.com/apple-iphone-12-mini-blue-256-gb/p/itmc642fc932a70c?pid=MOBFWBYZEWKFTSHF&lid=LSTMOBFWBYZEWKFTSHFC3ASGB&marketplace=FLIPKART&q=iphone12&store=tyy%2F4io&srno=s_1_21&otracker=search&fm=organic&iid=f81f2201-0ba2-48f7-b9c0-d7f6ae95995d.MOBFWBYZEWKFTSHF.SEARCH&ppt=None&ppn=None&ssid=fs8cne4m7k0000001677215368115&qH=ad588135f239b88b\n",
      "https://www.flipkart.com/apple-iphone-12-mini-blue-128-gb/p/itm9b6cdec9700ee?pid=MOBFWBYZHU58PHCZ&lid=LSTMOBFWBYZHU58PHCZHCUJHW&marketplace=FLIPKART&q=iphone12&store=tyy%2F4io&srno=s_1_22&otracker=search&fm=organic&iid=f81f2201-0ba2-48f7-b9c0-d7f6ae95995d.MOBFWBYZHU58PHCZ.SEARCH&ppt=None&ppn=None&ssid=fs8cne4m7k0000001677215368115&qH=ad588135f239b88b\n",
      "https://www.flipkart.com/apple-iphone-12-pro-silver-512-gb/p/itm0ccf9fc219a71?pid=MOBFWBYZ5UY6ZBVA&lid=LSTMOBFWBYZ5UY6ZBVASXARTV&marketplace=FLIPKART&q=iphone12&store=tyy%2F4io&srno=s_1_23&otracker=search&fm=organic&iid=f81f2201-0ba2-48f7-b9c0-d7f6ae95995d.MOBFWBYZ5UY6ZBVA.SEARCH&ppt=None&ppn=None&ssid=fs8cne4m7k0000001677215368115&qH=ad588135f239b88b\n",
      "https://www.flipkart.com/apple-iphone-12-mini-red-64-gb/p/itm255dd64643767?pid=MOBFWBYZNVWGWN2U&lid=LSTMOBFWBYZNVWGWN2UGQTHDC&marketplace=FLIPKART&q=iphone12&store=tyy%2F4io&srno=s_1_24&otracker=search&fm=organic&iid=f81f2201-0ba2-48f7-b9c0-d7f6ae95995d.MOBFWBYZNVWGWN2U.SEARCH&ppt=None&ppn=None&ssid=fs8cne4m7k0000001677215368115&qH=ad588135f239b88b\n"
     ]
    },
    {
     "ename": "AttributeError",
     "evalue": "'NoneType' object has no attribute 'a'",
     "output_type": "error",
     "traceback": [
      "\u001b[0;31m---------------------------------------------------------------------------\u001b[0m",
      "\u001b[0;31mAttributeError\u001b[0m                            Traceback (most recent call last)",
      "Cell \u001b[0;32mIn[37], line 2\u001b[0m\n\u001b[1;32m      1\u001b[0m \u001b[38;5;28;01mfor\u001b[39;00m i \u001b[38;5;129;01min\u001b[39;00m bigbox:\n\u001b[0;32m----> 2\u001b[0m     \u001b[38;5;28mprint\u001b[39m(\u001b[38;5;124m\"\u001b[39m\u001b[38;5;124mhttps://www.flipkart.com\u001b[39m\u001b[38;5;124m\"\u001b[39m\u001b[38;5;241m+\u001b[39m\u001b[43mi\u001b[49m\u001b[38;5;241;43m.\u001b[39;49m\u001b[43mdiv\u001b[49m\u001b[38;5;241;43m.\u001b[39;49m\u001b[43mdiv\u001b[49m\u001b[38;5;241;43m.\u001b[39;49m\u001b[43mdiv\u001b[49m\u001b[38;5;241;43m.\u001b[39;49m\u001b[43ma\u001b[49m[\u001b[38;5;124m\"\u001b[39m\u001b[38;5;124mhref\u001b[39m\u001b[38;5;124m\"\u001b[39m])\n",
      "\u001b[0;31mAttributeError\u001b[0m: 'NoneType' object has no attribute 'a'"
     ]
    }
   ],
   "source": [
    "for i in bigbox:\n",
    "    print(\"https://www.flipkart.com\"+i.div.div.div.a[\"href\"])"
   ]
  },
  {
   "cell_type": "code",
   "execution_count": 40,
   "id": "cc48d793-8000-4c37-a222-32d85a2c3f2c",
   "metadata": {},
   "outputs": [
    {
     "name": "stdout",
     "output_type": "stream",
     "text": [
      "5\n",
      "5\n",
      "5\n",
      "5\n",
      "5\n",
      "5\n",
      "5\n",
      "5\n",
      "5\n",
      "5\n"
     ]
    },
    {
     "ename": "AttributeError",
     "evalue": "'NoneType' object has no attribute 'div'",
     "output_type": "error",
     "traceback": [
      "\u001b[0;31m---------------------------------------------------------------------------\u001b[0m",
      "\u001b[0;31mAttributeError\u001b[0m                            Traceback (most recent call last)",
      "Cell \u001b[0;32mIn[40], line 2\u001b[0m\n\u001b[1;32m      1\u001b[0m \u001b[38;5;28;01mfor\u001b[39;00m i \u001b[38;5;129;01min\u001b[39;00m comment_box:\n\u001b[0;32m----> 2\u001b[0m     \u001b[38;5;28mprint\u001b[39m(\u001b[43mi\u001b[49m\u001b[38;5;241;43m.\u001b[39;49m\u001b[43mdiv\u001b[49m\u001b[38;5;241;43m.\u001b[39;49m\u001b[43mdiv\u001b[49m\u001b[38;5;241m.\u001b[39mdiv\u001b[38;5;241m.\u001b[39mdiv\u001b[38;5;241m.\u001b[39mtext)\n",
      "\u001b[0;31mAttributeError\u001b[0m: 'NoneType' object has no attribute 'div'"
     ]
    }
   ],
   "source": [
    "for i in comment_box:\n",
    "    print(i.div.div.div.div.text)"
   ]
  },
  {
   "cell_type": "code",
   "execution_count": 44,
   "id": "d50a8262-f2d2-4eb7-ac43-2f734303ded2",
   "metadata": {},
   "outputs": [
    {
     "data": {
      "text/plain": [
       "'Terrific'"
      ]
     },
     "execution_count": 44,
     "metadata": {},
     "output_type": "execute_result"
    }
   ],
   "source": [
    "comment_box[0].div.div.div.p.text"
   ]
  },
  {
   "cell_type": "code",
   "execution_count": 45,
   "id": "b89ca745-f536-4c82-b65b-80537e37c8e4",
   "metadata": {},
   "outputs": [
    {
     "name": "stdout",
     "output_type": "stream",
     "text": [
      "Terrific\n",
      "Perfect product!\n",
      "Terrific purchase\n",
      "Must buy!\n",
      "Awesome\n",
      "Mind-blowing purchase\n",
      "Brilliant\n",
      "Highly recommended\n",
      "Awesome\n",
      "Must buy!\n"
     ]
    },
    {
     "ename": "AttributeError",
     "evalue": "'NoneType' object has no attribute 'div'",
     "output_type": "error",
     "traceback": [
      "\u001b[0;31m---------------------------------------------------------------------------\u001b[0m",
      "\u001b[0;31mAttributeError\u001b[0m                            Traceback (most recent call last)",
      "Cell \u001b[0;32mIn[45], line 2\u001b[0m\n\u001b[1;32m      1\u001b[0m \u001b[38;5;28;01mfor\u001b[39;00m i \u001b[38;5;129;01min\u001b[39;00m comment_box:\n\u001b[0;32m----> 2\u001b[0m     \u001b[38;5;28mprint\u001b[39m(\u001b[43mi\u001b[49m\u001b[38;5;241;43m.\u001b[39;49m\u001b[43mdiv\u001b[49m\u001b[38;5;241;43m.\u001b[39;49m\u001b[43mdiv\u001b[49m\u001b[38;5;241m.\u001b[39mdiv\u001b[38;5;241m.\u001b[39mp\u001b[38;5;241m.\u001b[39mtext)\n",
      "\u001b[0;31mAttributeError\u001b[0m: 'NoneType' object has no attribute 'div'"
     ]
    }
   ],
   "source": [
    "for i in comment_box:\n",
    "    print(i.div.div.div.p.text)"
   ]
  },
  {
   "cell_type": "code",
   "execution_count": 52,
   "id": "80dc0704-0e3c-4e1e-9b6a-0625f56cb30a",
   "metadata": {},
   "outputs": [
    {
     "data": {
      "text/plain": [
       "'Wow superb camera phone Very smooth speed and no lag , iphone is the king always Its a beautiful product'"
      ]
     },
     "execution_count": 52,
     "metadata": {},
     "output_type": "execute_result"
    }
   ],
   "source": [
    "comment_box[0].div.find_all('div',{\"class\":\"\"})[0].div.text"
   ]
  },
  {
   "cell_type": "code",
   "execution_count": 53,
   "id": "91045cce-354a-4175-9ef2-5d9820eb0ed7",
   "metadata": {},
   "outputs": [
    {
     "name": "stdout",
     "output_type": "stream",
     "text": [
      "Wow superb camera phone Very smooth speed and no lag , iphone is the king always Its a beautiful product\n",
      "The brand is very trustworthy and i got genuine pice at a very low cost.I ordered the green one and trust me the colour was amazing.All the colours but specifically green and purple are nice for look.Thanks to flipkart❤️\n",
      "Awesome phone … value for money.. Happy with battery life.. Awesome camera features… look at the images snapped using the phone… easy to use.. Just feared about getting scratch at back glass… but using cover helped it…\n",
      "Top class performance  and battery backup too. Charges quickly if u are using a 20w charger. Night mode is good , HDR mode works flawlessly. VFM phone.\n",
      "Excellent product worth for every penny, writing this review after using 7 days, earlier was using iPhone 6Plus now on iPhone 12 😍, faster then anything this else.Excellent Picture quality.Just loved it.!!\n",
      "Guys ,this is just Beast at Every Aspect of Configurations, Full Pack with What You want, Like Best Camera , Best Display, Best Battery for whole Day Use, And Everyone know About Processing Speed👌..\n",
      "Almost 1month of purshase and i am loving it . Great for photography and videography and trust me the stability of video is awesome . High end performence in Gaming , the only problem is that it heats up a little while playing Bgmi but if u play in a AC room then there's no issue .The boxy look of iphone 12 is very good and it gives a premium feel while holding . worth buying . also if you are confused between iph 11 or iph12 then close your eyes and go for iphone 12 .\n",
      "Thanx flipkart for value super sale for short time period of 1hour😁, flipkart might need to work on faster deliveryIphone 12 which i got in best price on flipkart1. Camera performance - superb2. Display - superb3. Interface - Amazing\n",
      "Thanks flipkart i trust you got my device perfectly loved it best phone in it's segment\n",
      "I really m glad that i went for i phone in place of all other android devices like the Samsung S series nd one plus . Also , m amazed by the battery life in this i phone . Single charge and its last for a day easily ..Even the gaming experience was great\n"
     ]
    },
    {
     "ename": "AttributeError",
     "evalue": "'NoneType' object has no attribute 'find_all'",
     "output_type": "error",
     "traceback": [
      "\u001b[0;31m---------------------------------------------------------------------------\u001b[0m",
      "\u001b[0;31mAttributeError\u001b[0m                            Traceback (most recent call last)",
      "Cell \u001b[0;32mIn[53], line 2\u001b[0m\n\u001b[1;32m      1\u001b[0m \u001b[38;5;28;01mfor\u001b[39;00m i \u001b[38;5;129;01min\u001b[39;00m comment_box:\n\u001b[0;32m----> 2\u001b[0m     \u001b[38;5;28mprint\u001b[39m(\u001b[43mi\u001b[49m\u001b[38;5;241;43m.\u001b[39;49m\u001b[43mdiv\u001b[49m\u001b[38;5;241;43m.\u001b[39;49m\u001b[43mfind_all\u001b[49m(\u001b[38;5;124m'\u001b[39m\u001b[38;5;124mdiv\u001b[39m\u001b[38;5;124m'\u001b[39m,{\u001b[38;5;124m\"\u001b[39m\u001b[38;5;124mclass\u001b[39m\u001b[38;5;124m\"\u001b[39m:\u001b[38;5;124m\"\u001b[39m\u001b[38;5;124m\"\u001b[39m})[\u001b[38;5;241m0\u001b[39m]\u001b[38;5;241m.\u001b[39mdiv\u001b[38;5;241m.\u001b[39mtext)\n",
      "\u001b[0;31mAttributeError\u001b[0m: 'NoneType' object has no attribute 'find_all'"
     ]
    }
   ],
   "source": [
    "for i in comment_box:\n",
    "    print(i.div.find_all('div',{\"class\":\"\"})[0].div.text)"
   ]
  },
  {
   "cell_type": "code",
   "execution_count": null,
   "id": "ed8d73b2-d159-4df9-ae42-b99d74a54654",
   "metadata": {},
   "outputs": [],
   "source": []
  }
 ],
 "metadata": {
  "kernelspec": {
   "display_name": "Python 3 (ipykernel)",
   "language": "python",
   "name": "python3"
  },
  "language_info": {
   "codemirror_mode": {
    "name": "ipython",
    "version": 3
   },
   "file_extension": ".py",
   "mimetype": "text/x-python",
   "name": "python",
   "nbconvert_exporter": "python",
   "pygments_lexer": "ipython3",
   "version": "3.10.8"
  }
 },
 "nbformat": 4,
 "nbformat_minor": 5
}
